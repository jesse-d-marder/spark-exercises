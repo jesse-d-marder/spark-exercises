{
 "cells": [
  {
   "cell_type": "code",
   "execution_count": 1,
   "id": "141379ec-2410-47b8-a151-7f4913a60d4f",
   "metadata": {},
   "outputs": [
    {
     "name": "stderr",
     "output_type": "stream",
     "text": [
      "22/05/20 12:01:25 WARN Utils: Your hostname, Jesses-MacBook-Pro.local resolves to a loopback address: 127.0.0.1; using 192.168.1.101 instead (on interface en0)\n",
      "22/05/20 12:01:25 WARN Utils: Set SPARK_LOCAL_IP if you need to bind to another address\n",
      "WARNING: An illegal reflective access operation has occurred\n",
      "WARNING: Illegal reflective access by org.apache.spark.unsafe.Platform (file:/opt/homebrew/anaconda3/lib/python3.9/site-packages/pyspark/jars/spark-unsafe_2.12-3.2.1.jar) to constructor java.nio.DirectByteBuffer(long,int)\n",
      "WARNING: Please consider reporting this to the maintainers of org.apache.spark.unsafe.Platform\n",
      "WARNING: Use --illegal-access=warn to enable warnings of further illegal reflective access operations\n",
      "WARNING: All illegal access operations will be denied in a future release\n",
      "Using Spark's default log4j profile: org/apache/spark/log4j-defaults.properties\n",
      "Setting default log level to \"WARN\".\n",
      "To adjust logging level use sc.setLogLevel(newLevel). For SparkR, use setLogLevel(newLevel).\n",
      "22/05/20 12:01:26 WARN NativeCodeLoader: Unable to load native-hadoop library for your platform... using builtin-java classes where applicable\n",
      "22/05/20 12:01:28 WARN Utils: Service 'SparkUI' could not bind on port 4040. Attempting port 4041.\n",
      "22/05/20 12:01:28 WARN Utils: Service 'SparkUI' could not bind on port 4041. Attempting port 4042.\n"
     ]
    }
   ],
   "source": [
    "from pyspark.sql import SparkSession\n",
    "from pyspark.sql.functions import *\n",
    "\n",
    "spark = SparkSession.builder.getOrCreate()"
   ]
  },
  {
   "cell_type": "markdown",
   "id": "ce9e172e-8343-4a0b-98b3-f3e5a8ba3007",
   "metadata": {},
   "source": [
    "1. Read the case, department, and source data into their own spark dataframes."
   ]
  },
  {
   "cell_type": "code",
   "execution_count": 2,
   "id": "6213c14b-dcdd-4bae-a6d1-7a761b5a11fb",
   "metadata": {},
   "outputs": [
    {
     "name": "stderr",
     "output_type": "stream",
     "text": [
      "                                                                                \r"
     ]
    }
   ],
   "source": [
    "source = spark.read.csv(\"lessons/source.csv\", sep=\",\", header=True, inferSchema=True)\n",
    "case = spark.read.csv(\"lessons/case.csv\", header=True, inferSchema=True)\n",
    "dept = spark.read.csv(\"lessons/dept.csv\", header=True, inferSchema=True)"
   ]
  },
  {
   "cell_type": "markdown",
   "id": "aa06596d-7cc8-4a2a-a208-dc2fd6d20a76",
   "metadata": {},
   "source": [
    "2. Let's see how writing to the local disk works in spark:\n",
    "\n",
    "    - Write the code necessary to store the source data in both csv and json format, store these as sources_csv and sources_json\n",
    "    - Inspect your folder structure. What do you notice?"
   ]
  },
  {
   "cell_type": "code",
   "execution_count": 3,
   "id": "fae35821-7c58-4c4f-8748-31e809bcff08",
   "metadata": {},
   "outputs": [],
   "source": [
    "# source.write.csv('sources_csv')\n",
    "# source.write.json('sources_json')"
   ]
  },
  {
   "cell_type": "markdown",
   "id": "f1d7bc2c-471f-4150-bd63-bcb6602b536d",
   "metadata": {},
   "source": [
    "Created directory with one json and one csv as well as a SUCCESS file"
   ]
  },
  {
   "cell_type": "markdown",
   "id": "216c9848-1a1c-4a75-9c98-c0c67d3851a6",
   "metadata": {},
   "source": [
    "3. Inspect the data in your dataframes. Are the data types appropriate? Write the code necessary to cast the values to the appropriate types."
   ]
  },
  {
   "cell_type": "code",
   "execution_count": 4,
   "id": "c74466f9-f277-42a8-9357-c2e18ccd9946",
   "metadata": {},
   "outputs": [
    {
     "name": "stdout",
     "output_type": "stream",
     "text": [
      "+---------+----------------+\n",
      "|source_id| source_username|\n",
      "+---------+----------------+\n",
      "|   100137|Merlene Blodgett|\n",
      "|   103582|     Carmen Cura|\n",
      "+---------+----------------+\n",
      "only showing top 2 rows\n",
      "\n"
     ]
    }
   ],
   "source": [
    "source.show(2)"
   ]
  },
  {
   "cell_type": "code",
   "execution_count": 5,
   "id": "7355b93d-e44d-49f5-8a65-ba42dc84a1a3",
   "metadata": {},
   "outputs": [
    {
     "name": "stdout",
     "output_type": "stream",
     "text": [
      "root\n",
      " |-- source_id: string (nullable = true)\n",
      " |-- source_username: string (nullable = true)\n",
      "\n"
     ]
    }
   ],
   "source": [
    "source.printSchema()"
   ]
  },
  {
   "cell_type": "markdown",
   "id": "d99f1ad5-e42b-4835-b238-6129e91fbbf2",
   "metadata": {},
   "source": [
    "Looks appropiate"
   ]
  },
  {
   "cell_type": "code",
   "execution_count": 6,
   "id": "61c6b033-911c-4401-9e94-69a41a5c1080",
   "metadata": {},
   "outputs": [
    {
     "name": "stdout",
     "output_type": "stream",
     "text": [
      "+----------+----------------+----------------+------------+---------+-------------------+-----------+----------------+--------------------+-----------+-----------+---------+--------------------+----------------+\n",
      "|   case_id|case_opened_date|case_closed_date|SLA_due_date|case_late|      num_days_late|case_closed|   dept_division|service_request_type|   SLA_days|case_status|source_id|     request_address|council_district|\n",
      "+----------+----------------+----------------+------------+---------+-------------------+-----------+----------------+--------------------+-----------+-----------+---------+--------------------+----------------+\n",
      "|1014127332|     1/1/18 0:42|    1/1/18 12:29|9/26/20 0:42|       NO| -998.5087616000001|        YES|Field Operations|        Stray Animal|      999.0|     Closed| svcCRMLS|2315  EL PASO ST,...|               5|\n",
      "|1014127333|     1/1/18 0:46|     1/3/18 8:11| 1/5/18 8:30|       NO|-2.0126041669999997|        YES|     Storm Water|Removal Of Obstru...|4.322222222|     Closed| svcCRMSS|2215  GOLIAD RD, ...|               3|\n",
      "+----------+----------------+----------------+------------+---------+-------------------+-----------+----------------+--------------------+-----------+-----------+---------+--------------------+----------------+\n",
      "only showing top 2 rows\n",
      "\n"
     ]
    }
   ],
   "source": [
    "case.show(2)"
   ]
  },
  {
   "cell_type": "code",
   "execution_count": 7,
   "id": "9dc1c3c0-c26b-4f6b-b220-3e856bc7bddb",
   "metadata": {},
   "outputs": [
    {
     "name": "stdout",
     "output_type": "stream",
     "text": [
      "root\n",
      " |-- case_id: integer (nullable = true)\n",
      " |-- case_opened_date: string (nullable = true)\n",
      " |-- case_closed_date: string (nullable = true)\n",
      " |-- SLA_due_date: string (nullable = true)\n",
      " |-- case_late: string (nullable = true)\n",
      " |-- num_days_late: double (nullable = true)\n",
      " |-- case_closed: string (nullable = true)\n",
      " |-- dept_division: string (nullable = true)\n",
      " |-- service_request_type: string (nullable = true)\n",
      " |-- SLA_days: double (nullable = true)\n",
      " |-- case_status: string (nullable = true)\n",
      " |-- source_id: string (nullable = true)\n",
      " |-- request_address: string (nullable = true)\n",
      " |-- council_district: integer (nullable = true)\n",
      "\n"
     ]
    }
   ],
   "source": [
    "case.printSchema()"
   ]
  },
  {
   "cell_type": "code",
   "execution_count": 8,
   "id": "389a99d1-acba-48f7-9bd7-c3b0568c934c",
   "metadata": {},
   "outputs": [],
   "source": [
    "case = case.withColumnRenamed(\"SLA_due_date\", \"case_due_date\")"
   ]
  },
  {
   "cell_type": "code",
   "execution_count": 9,
   "id": "89fbfa89-2c3a-4228-8abe-d73fcaec446e",
   "metadata": {},
   "outputs": [],
   "source": [
    "# Make case closed and case late columns booleans\n",
    "case = case.withColumn(\"case_closed\", expr('case_closed == \"YES\"')).withColumn(\n",
    "    \"case_late\", expr('case_late == \"YES\"')\n",
    ")"
   ]
  },
  {
   "cell_type": "code",
   "execution_count": 10,
   "id": "79b375d0-9aa4-4f5e-b506-da6e3e53cd8b",
   "metadata": {},
   "outputs": [
    {
     "name": "stdout",
     "output_type": "stream",
     "text": [
      "--- Before handling dates\n",
      "+----------------+----------------+-------------+\n",
      "|case_opened_date|case_closed_date|case_due_date|\n",
      "+----------------+----------------+-------------+\n",
      "|     1/1/18 0:42|    1/1/18 12:29| 9/26/20 0:42|\n",
      "|     1/1/18 0:46|     1/3/18 8:11|  1/5/18 8:30|\n",
      "|     1/1/18 0:48|     1/2/18 7:57|  1/5/18 8:30|\n",
      "|     1/1/18 1:29|     1/2/18 8:13| 1/17/18 8:30|\n",
      "|     1/1/18 1:34|    1/1/18 13:29|  1/1/18 4:34|\n",
      "+----------------+----------------+-------------+\n",
      "only showing top 5 rows\n",
      "\n",
      "--- After\n",
      "+-------------------+-------------------+-------------------+\n",
      "|   case_opened_date|   case_closed_date|      case_due_date|\n",
      "+-------------------+-------------------+-------------------+\n",
      "|2018-01-01 00:42:00|2018-01-01 12:29:00|2020-09-26 00:42:00|\n",
      "|2018-01-01 00:46:00|2018-01-03 08:11:00|2018-01-05 08:30:00|\n",
      "|2018-01-01 00:48:00|2018-01-02 07:57:00|2018-01-05 08:30:00|\n",
      "|2018-01-01 01:29:00|2018-01-02 08:13:00|2018-01-17 08:30:00|\n",
      "|2018-01-01 01:34:00|2018-01-01 13:29:00|2018-01-01 04:34:00|\n",
      "+-------------------+-------------------+-------------------+\n",
      "only showing top 5 rows\n",
      "\n"
     ]
    }
   ],
   "source": [
    "# handle dates\n",
    "print(\"--- Before handling dates\")\n",
    "case.select(\"case_opened_date\", \"case_closed_date\", \"case_due_date\").show(5)\n",
    "\n",
    "fmt = \"M/d/yy H:mm\"\n",
    "case = (\n",
    "    case.withColumn(\"case_opened_date\", to_timestamp(\"case_opened_date\", fmt))\n",
    "    .withColumn(\"case_closed_date\", to_timestamp(\"case_closed_date\", fmt))\n",
    "    .withColumn(\"case_due_date\", to_timestamp(\"case_due_date\", fmt))\n",
    ")\n",
    "\n",
    "print(\"--- After\")\n",
    "case.select(\"case_opened_date\", \"case_closed_date\", \"case_due_date\").show(5)\n"
   ]
  },
  {
   "cell_type": "markdown",
   "id": "988b3e1f-9c0b-4b3d-b11f-b895531c1957",
   "metadata": {},
   "source": [
    "Add features"
   ]
  },
  {
   "cell_type": "code",
   "execution_count": 11,
   "id": "4ed12527-e113-405d-8f0b-524fa131a92c",
   "metadata": {},
   "outputs": [
    {
     "name": "stdout",
     "output_type": "stream",
     "text": [
      "+-----------+-------------------+-------------------+--------+--------------+-------------+\n",
      "|case_closed|   case_opened_date|   case_closed_date|case_age|days_to_closed|case_lifetime|\n",
      "+-----------+-------------------+-------------------+--------+--------------+-------------+\n",
      "|       true|2018-01-01 00:42:00|2018-01-01 12:29:00|    1600|             0|            0|\n",
      "|       true|2018-01-01 00:46:00|2018-01-03 08:11:00|    1600|             2|            2|\n",
      "|       true|2018-01-01 00:48:00|2018-01-02 07:57:00|    1600|             1|            1|\n",
      "|       true|2018-01-01 01:29:00|2018-01-02 08:13:00|    1600|             1|            1|\n",
      "|       true|2018-01-01 01:34:00|2018-01-01 13:29:00|    1600|             0|            0|\n",
      "+-----------+-------------------+-------------------+--------+--------------+-------------+\n",
      "only showing top 5 rows\n",
      "\n",
      "+-----------+-------------------+----------------+--------+--------------+-------------+\n",
      "|case_closed|   case_opened_date|case_closed_date|case_age|days_to_closed|case_lifetime|\n",
      "+-----------+-------------------+----------------+--------+--------------+-------------+\n",
      "|      false|2018-01-02 09:39:00|            null|    1599|          null|         1599|\n",
      "|      false|2018-01-02 10:49:00|            null|    1599|          null|         1599|\n",
      "|      false|2018-01-02 13:45:00|            null|    1599|          null|         1599|\n",
      "|      false|2018-01-02 14:09:00|            null|    1599|          null|         1599|\n",
      "|      false|2018-01-02 14:34:00|            null|    1599|          null|         1599|\n",
      "+-----------+-------------------+----------------+--------+--------------+-------------+\n",
      "only showing top 5 rows\n",
      "\n"
     ]
    }
   ],
   "source": [
    "case = (\n",
    "    case.withColumn(\n",
    "        \"case_age\", datediff(current_timestamp(), \"case_opened_date\")\n",
    "    )\n",
    "    .withColumn(\n",
    "        \"days_to_closed\", datediff(\"case_closed_date\", \"case_opened_date\")\n",
    "    )\n",
    "    .withColumn(\n",
    "        \"case_lifetime\",\n",
    "        when(expr(\"! case_closed\"), col(\"case_age\")).otherwise(\n",
    "            col(\"days_to_closed\")\n",
    "        ),\n",
    "    )\n",
    ")\n",
    "\n",
    "case.select(\n",
    "    \"case_closed\",\n",
    "    \"case_opened_date\",\n",
    "    \"case_closed_date\",\n",
    "    \"case_age\",\n",
    "    \"days_to_closed\",\n",
    "    \"case_lifetime\",\n",
    ").where(expr(\"case_closed\")).show(5)\n",
    "\n",
    "case.select(\n",
    "    \"case_closed\",\n",
    "    \"case_opened_date\",\n",
    "    \"case_closed_date\",\n",
    "    \"case_age\",\n",
    "    \"days_to_closed\",\n",
    "    \"case_lifetime\",\n",
    ").where(expr(\"! case_closed\")).show(5)\n"
   ]
  },
  {
   "cell_type": "code",
   "execution_count": 12,
   "id": "551b49eb-92a5-4c25-9b2d-5c493b0b828b",
   "metadata": {},
   "outputs": [
    {
     "name": "stdout",
     "output_type": "stream",
     "text": [
      "root\n",
      " |-- case_id: integer (nullable = true)\n",
      " |-- case_opened_date: timestamp (nullable = true)\n",
      " |-- case_closed_date: timestamp (nullable = true)\n",
      " |-- case_due_date: timestamp (nullable = true)\n",
      " |-- case_late: boolean (nullable = true)\n",
      " |-- num_days_late: double (nullable = true)\n",
      " |-- case_closed: boolean (nullable = true)\n",
      " |-- dept_division: string (nullable = true)\n",
      " |-- service_request_type: string (nullable = true)\n",
      " |-- SLA_days: double (nullable = true)\n",
      " |-- case_status: string (nullable = true)\n",
      " |-- source_id: string (nullable = true)\n",
      " |-- request_address: string (nullable = true)\n",
      " |-- council_district: integer (nullable = true)\n",
      " |-- case_age: integer (nullable = true)\n",
      " |-- days_to_closed: integer (nullable = true)\n",
      " |-- case_lifetime: integer (nullable = true)\n",
      "\n"
     ]
    }
   ],
   "source": [
    "case.printSchema()"
   ]
  },
  {
   "cell_type": "markdown",
   "id": "1617cc30-5e27-4102-a9ed-8c005bdba8e5",
   "metadata": {},
   "source": [
    "1. How old is the latest (in terms of days past SLA) currently open issue? How long has the oldest (in terms of days since opened) currently opened issue been open?"
   ]
  },
  {
   "cell_type": "code",
   "execution_count": 13,
   "id": "f9907a8a-d435-4599-8160-8904b1ed075e",
   "metadata": {},
   "outputs": [
    {
     "name": "stderr",
     "output_type": "stream",
     "text": [
      "[Stage 12:>                                                         (0 + 8) / 8]\r"
     ]
    },
    {
     "name": "stdout",
     "output_type": "stream",
     "text": [
      "+-------------+\n",
      "|num_days_late|\n",
      "+-------------+\n",
      "|  348.6458333|\n",
      "+-------------+\n",
      "only showing top 1 row\n",
      "\n"
     ]
    },
    {
     "name": "stderr",
     "output_type": "stream",
     "text": [
      "                                                                                \r"
     ]
    }
   ],
   "source": [
    "case.filter(case.case_closed == False).sort(case.num_days_late.desc()).select('num_days_late').show(1)"
   ]
  },
  {
   "cell_type": "code",
   "execution_count": 14,
   "id": "b8ea7d4d-6943-4c9a-9fe7-7cdd3010a6c4",
   "metadata": {},
   "outputs": [
    {
     "name": "stderr",
     "output_type": "stream",
     "text": [
      "[Stage 13:=============================>                            (4 + 4) / 8]\r"
     ]
    },
    {
     "name": "stdout",
     "output_type": "stream",
     "text": [
      "+--------+\n",
      "|case_age|\n",
      "+--------+\n",
      "|    1965|\n",
      "+--------+\n",
      "only showing top 1 row\n",
      "\n"
     ]
    },
    {
     "name": "stderr",
     "output_type": "stream",
     "text": [
      "                                                                                \r"
     ]
    }
   ],
   "source": [
    "case.filter(case.case_closed == False).sort(case.case_age.desc()).select('case_age').show(1)"
   ]
  },
  {
   "cell_type": "markdown",
   "id": "097d4f67-80ee-4493-8eae-afdd2a78e734",
   "metadata": {},
   "source": [
    "2. How many Stray Animal cases are there?"
   ]
  },
  {
   "cell_type": "code",
   "execution_count": 15,
   "id": "5c1e6fed-1259-424b-b598-fbd36c5ccf85",
   "metadata": {},
   "outputs": [
    {
     "name": "stderr",
     "output_type": "stream",
     "text": [
      "                                                                                \r"
     ]
    },
    {
     "data": {
      "text/plain": [
       "26760"
      ]
     },
     "execution_count": 15,
     "metadata": {},
     "output_type": "execute_result"
    }
   ],
   "source": [
    "case.filter('service_request_type = \"Stray Animal\"').count()"
   ]
  },
  {
   "cell_type": "markdown",
   "id": "5674e773-f837-467b-bfd4-c624b2bbfbb3",
   "metadata": {},
   "source": [
    "3. How many service requests that are assigned to the Field Operations department (dept_division) are not classified as \"Officer Standby\" request type (service_request_type)?"
   ]
  },
  {
   "cell_type": "code",
   "execution_count": 16,
   "id": "eddb388c-f1f6-4abc-b4fb-6c07aa5450e0",
   "metadata": {},
   "outputs": [
    {
     "name": "stderr",
     "output_type": "stream",
     "text": [
      "                                                                                \r"
     ]
    },
    {
     "data": {
      "text/plain": [
       "113902"
      ]
     },
     "execution_count": 16,
     "metadata": {},
     "output_type": "execute_result"
    }
   ],
   "source": [
    "# How many service requests that are assigned to the Field Operations department (dept_division) \n",
    "# are not classified as \"Officer Standby\" request type (service_request_type)?\n",
    "case.filter(case.dept_division == 'Field Operations').filter(case.service_request_type != 'Officer Standby').count()\n"
   ]
  },
  {
   "cell_type": "markdown",
   "id": "5d82f053-439f-4ccd-949a-b5cf6021d246",
   "metadata": {},
   "source": [
    "4. Convert the council_district column to a string column."
   ]
  },
  {
   "cell_type": "code",
   "execution_count": 17,
   "id": "f9f4d04c-bce6-4ee9-82b6-cf8479b8d40d",
   "metadata": {},
   "outputs": [],
   "source": [
    "# Cast council district to string\n",
    "case = case.withColumn(\"council_district\", col(\"council_district\").cast(\"string\"))"
   ]
  },
  {
   "cell_type": "markdown",
   "id": "18386bef-c1c1-4abf-8e7a-c9554bca6eba",
   "metadata": {},
   "source": [
    "5. Extract the year from the case_closed_date column."
   ]
  },
  {
   "cell_type": "code",
   "execution_count": 18,
   "id": "b20cef4f-e0b9-43c0-ac04-af11d587341d",
   "metadata": {},
   "outputs": [
    {
     "name": "stdout",
     "output_type": "stream",
     "text": [
      "-RECORD 0----------------------\n",
      " year(case_closed_date) | 2018 \n",
      "-RECORD 1----------------------\n",
      " year(case_closed_date) | 2018 \n",
      "-RECORD 2----------------------\n",
      " year(case_closed_date) | 2018 \n",
      "-RECORD 3----------------------\n",
      " year(case_closed_date) | 2018 \n",
      "-RECORD 4----------------------\n",
      " year(case_closed_date) | 2018 \n",
      "-RECORD 5----------------------\n",
      " year(case_closed_date) | 2018 \n",
      "only showing top 6 rows\n",
      "\n"
     ]
    }
   ],
   "source": [
    "case.select(year(case.case_closed_date)).show(6, vertical=True)"
   ]
  },
  {
   "cell_type": "markdown",
   "id": "9a16be38-47d5-4c70-86f2-d64f7f39c0aa",
   "metadata": {},
   "source": [
    "6. Convert num_days_late from days to hours in new columns num_hours_late."
   ]
  },
  {
   "cell_type": "code",
   "execution_count": 19,
   "id": "f1f497ed-5b29-4370-980c-31245b1d4cfc",
   "metadata": {},
   "outputs": [
    {
     "name": "stdout",
     "output_type": "stream",
     "text": [
      "+--------------------+-------------------+\n",
      "|      num_hours_late|      num_days_late|\n",
      "+--------------------+-------------------+\n",
      "|  -41.60453173333334| -998.5087616000001|\n",
      "|-0.08385850695833331|-2.0126041669999997|\n",
      "|-0.12593074845833332|       -3.022337963|\n",
      "|        -0.625478395|       -15.01148148|\n",
      "|0.015506848000000002|0.37216435200000003|\n",
      "+--------------------+-------------------+\n",
      "only showing top 5 rows\n",
      "\n"
     ]
    }
   ],
   "source": [
    "case.withColumn('num_hours_late', expr('num_days_late / 24')).select('num_hours_late','num_days_late').show(5)"
   ]
  },
  {
   "cell_type": "markdown",
   "id": "5df2245e-a42f-4a41-895e-206ea77fce64",
   "metadata": {},
   "source": [
    "7. Join the case data with the source and department data."
   ]
  },
  {
   "cell_type": "code",
   "execution_count": 20,
   "id": "228ee758-e6d5-4772-8a36-cd4a9c3639be",
   "metadata": {},
   "outputs": [
    {
     "name": "stdout",
     "output_type": "stream",
     "text": [
      "-RECORD 0------------------------------------\n",
      " case_id              | 1014127332           \n",
      " case_opened_date     | 2018-01-01 00:42:00  \n",
      " case_closed_date     | 2018-01-01 12:29:00  \n",
      " case_due_date        | 2020-09-26 00:42:00  \n",
      " case_late            | false                \n",
      " num_days_late        | -998.5087616000001   \n",
      " case_closed          | true                 \n",
      " service_request_type | Stray Animal         \n",
      " SLA_days             | 999.0                \n",
      " case_status          | Closed               \n",
      " source_id            | svcCRMLS             \n",
      " request_address      | 2315  EL PASO ST,... \n",
      " council_district     | 5                    \n",
      " case_age             | 1600                 \n",
      " days_to_closed       | 0                    \n",
      " case_lifetime        | 0                    \n",
      " department           | Animal Care Services \n",
      " dept_subject_to_SLA  | true                 \n",
      "-RECORD 1------------------------------------\n",
      " case_id              | 1014127333           \n",
      " case_opened_date     | 2018-01-01 00:46:00  \n",
      " case_closed_date     | 2018-01-03 08:11:00  \n",
      " case_due_date        | 2018-01-05 08:30:00  \n",
      " case_late            | false                \n",
      " num_days_late        | -2.0126041669999997  \n",
      " case_closed          | true                 \n",
      " service_request_type | Removal Of Obstru... \n",
      " SLA_days             | 4.322222222          \n",
      " case_status          | Closed               \n",
      " source_id            | svcCRMSS             \n",
      " request_address      | 2215  GOLIAD RD, ... \n",
      " council_district     | 3                    \n",
      " case_age             | 1600                 \n",
      " days_to_closed       | 2                    \n",
      " case_lifetime        | 2                    \n",
      " department           | Trans & Cap Impro... \n",
      " dept_subject_to_SLA  | true                 \n",
      "only showing top 2 rows\n",
      "\n"
     ]
    }
   ],
   "source": [
    "### join dept data\n",
    "df = (\n",
    "    case\n",
    "    # left join on dept_division\n",
    "    .join(dept, \"dept_division\", \"left\")\n",
    "    # drop all the columns except for standardized name, as it has much fewer unique values\n",
    "    .drop(dept.dept_division)\n",
    "    .drop(dept.dept_name)\n",
    "    .drop(case.dept_division)\n",
    "    .withColumnRenamed(\"standardized_dept_name\", \"department\")\n",
    "    # convert to a boolean\n",
    "    .withColumn(\"dept_subject_to_SLA\", col(\"dept_subject_to_SLA\") == \"YES\")\n",
    ")\n",
    "\n",
    "df.show(2, vertical=True)\n",
    "\n"
   ]
  },
  {
   "cell_type": "markdown",
   "id": "aa9dd058-86f5-453a-9635-ac66ab577cc3",
   "metadata": {},
   "source": [
    "Join source"
   ]
  },
  {
   "cell_type": "code",
   "execution_count": 34,
   "id": "1c59f3ec-5f56-4e35-b44c-2d32aa55a186",
   "metadata": {},
   "outputs": [],
   "source": [
    "df = df.join(\n",
    "    source, on='source_id', how='left').drop('source_id')"
   ]
  },
  {
   "cell_type": "code",
   "execution_count": 44,
   "id": "e141612c-bb5e-4971-8352-a93ec3cef0ba",
   "metadata": {},
   "outputs": [
    {
     "name": "stdout",
     "output_type": "stream",
     "text": [
      "-RECORD 0------------------------------------\n",
      " case_id              | 1014127332           \n",
      " case_opened_date     | 2018-01-01 00:42:00  \n",
      " case_closed_date     | 2018-01-01 12:29:00  \n",
      " case_due_date        | 2020-09-26 00:42:00  \n",
      " case_late            | false                \n",
      " num_days_late        | -998.5087616000001   \n",
      " case_closed          | true                 \n",
      " service_request_type | Stray Animal         \n",
      " SLA_days             | 999.0                \n",
      " case_status          | Closed               \n",
      " request_address      | 2315  EL PASO ST,... \n",
      " council_district     | 5                    \n",
      " case_age             | 1600                 \n",
      " days_to_closed       | 0                    \n",
      " case_lifetime        | 0                    \n",
      " department           | Animal Care Services \n",
      " dept_subject_to_SLA  | true                 \n",
      " source_username      | svcCRMLS             \n",
      "only showing top 1 row\n",
      "\n"
     ]
    }
   ],
   "source": [
    "df.show(1, vertical = True)"
   ]
  },
  {
   "cell_type": "markdown",
   "id": "8f4c2a5a-09ce-4216-9d0f-6a21008a6db8",
   "metadata": {},
   "source": [
    "8. Are there any cases that do not have a request source?"
   ]
  },
  {
   "cell_type": "code",
   "execution_count": 54,
   "id": "c5cb63aa-39f5-4142-9de1-f35ad71c9714",
   "metadata": {},
   "outputs": [
    {
     "name": "stderr",
     "output_type": "stream",
     "text": [
      "[Stage 59:=======>                                                  (1 + 7) / 8]\r"
     ]
    },
    {
     "name": "stdout",
     "output_type": "stream",
     "text": [
      "+---------------------------------------------------------------------------------------------------------------------------------------------------------------------------------------------------+\n",
      "|count(CASE WHEN ((((contains(source_username, None) OR contains(source_username, NULL)) OR (source_username IS NULL)) OR isnan(source_username)) OR (source_username = )) THEN source_username END)|\n",
      "+---------------------------------------------------------------------------------------------------------------------------------------------------------------------------------------------------+\n",
      "|                                                                                                                                                                                                  0|\n",
      "+---------------------------------------------------------------------------------------------------------------------------------------------------------------------------------------------------+\n",
      "\n"
     ]
    },
    {
     "name": "stderr",
     "output_type": "stream",
     "text": [
      "                                                                                \r"
     ]
    }
   ],
   "source": [
    "(\n",
    "    df.select(count(when(\n",
    "            col('source_username')\n",
    "            .contains('None') |\n",
    "            col('source_username')\n",
    "            .contains('NULL') |\n",
    "            col('source_username').isNull() |\n",
    "        isnan('source_username') |\n",
    "              (col('source_username') == '')\n",
    "              ,'source_username')\n",
    "               )\n",
    ")).show(1)"
   ]
  },
  {
   "cell_type": "markdown",
   "id": "f83583f4-9f24-4c36-964f-888d9fd6d3df",
   "metadata": {},
   "source": [
    "Doesn't look like there are any empty values"
   ]
  },
  {
   "cell_type": "markdown",
   "id": "6a0b48a8-c740-49cc-80e3-9a537209a19e",
   "metadata": {},
   "source": [
    "9. What are the top 10 service request types in terms of number of requests?"
   ]
  },
  {
   "cell_type": "code",
   "execution_count": 77,
   "id": "fa42c8a6-2415-4474-827d-a2d119c22b7b",
   "metadata": {},
   "outputs": [
    {
     "name": "stderr",
     "output_type": "stream",
     "text": [
      "[Stage 122:>                                                        (0 + 8) / 8]\r"
     ]
    },
    {
     "name": "stdout",
     "output_type": "stream",
     "text": [
      "+--------------------------------+-----+\n",
      "|service_request_type            |count|\n",
      "+--------------------------------+-----+\n",
      "|No Pickup                       |89210|\n",
      "|Overgrown Yard/Trash            |66403|\n",
      "|Bandit Signs                    |32968|\n",
      "|Damaged Cart                    |31163|\n",
      "|Front Or Side Yard Parking      |28920|\n",
      "|Stray Animal                    |27361|\n",
      "|Aggressive Animal(Non-Critical) |25492|\n",
      "|Cart Exchange Request           |22608|\n",
      "|Junk Vehicle On Private Property|21649|\n",
      "|Pot Hole Repair                 |20827|\n",
      "+--------------------------------+-----+\n",
      "\n"
     ]
    },
    {
     "name": "stderr",
     "output_type": "stream",
     "text": [
      "                                                                                \r"
     ]
    }
   ],
   "source": [
    "df.groupby('service_request_type').count().sort(col('count').desc()).limit(10).show(truncate = False)"
   ]
  },
  {
   "cell_type": "markdown",
   "id": "3d09f161-3e85-4fd4-a532-e1cd7d08d362",
   "metadata": {},
   "source": [
    "10. What are the top 10 service request types in terms of average days late?"
   ]
  },
  {
   "cell_type": "code",
   "execution_count": 86,
   "id": "57f6244e-a68d-4389-b447-9a30cfc3a73a",
   "metadata": {},
   "outputs": [
    {
     "name": "stderr",
     "output_type": "stream",
     "text": [
      "[Stage 153:>                                                        (0 + 8) / 8]\r"
     ]
    },
    {
     "name": "stdout",
     "output_type": "stream",
     "text": [
      "+--------------------------------------+------------------+\n",
      "|service_request_type                  |avg_days_late     |\n",
      "+--------------------------------------+------------------+\n",
      "|Zoning: Recycle Yard                  |210.89201994318182|\n",
      "|Zoning: Junk Yards                    |200.20517608494276|\n",
      "|Structure/Housing Maintenance         |190.20707698509807|\n",
      "|Donation Container Enforcement        |171.09115313942615|\n",
      "|Storage of Used Mattress              |163.96812829714287|\n",
      "|Labeling for Used Mattress            |162.43032902285717|\n",
      "|Record Keeping of Used Mattresses     |153.99724039428568|\n",
      "|Signage Requied for Sale of Used Mattr|151.63868055333333|\n",
      "|Traffic Signal Graffiti               |137.64583330000002|\n",
      "|License Requied Used Mattress Sales   |128.79828704142858|\n",
      "+--------------------------------------+------------------+\n",
      "\n"
     ]
    },
    {
     "name": "stderr",
     "output_type": "stream",
     "text": [
      "                                                                                \r"
     ]
    }
   ],
   "source": [
    "(df.filter(df.case_late == True)\n",
    " .groupby('service_request_type')\n",
    " .agg(avg('num_days_late')\n",
    "      .alias('avg_days_late'))\n",
    " .sort(col('avg_days_late')\n",
    "       .desc())\n",
    " .limit(10)).show(truncate = False)"
   ]
  },
  {
   "cell_type": "markdown",
   "id": "c1261941-6387-44a6-ba1f-5e03767720de",
   "metadata": {},
   "source": [
    "11. Does number of days late depend on department?"
   ]
  },
  {
   "cell_type": "code",
   "execution_count": 98,
   "id": "1445e540-3a88-4d03-9b73-b4fe0681f819",
   "metadata": {},
   "outputs": [
    {
     "name": "stderr",
     "output_type": "stream",
     "text": [
      "                                                                                \r"
     ]
    }
   ],
   "source": [
    "dept_late = (df.filter(df.case_late == True)\n",
    " .groupby('department')\n",
    ".agg(avg('num_days_late').alias('avg_days_late'))).toPandas()"
   ]
  },
  {
   "cell_type": "code",
   "execution_count": 102,
   "id": "ad5b211b-f8da-4fc8-b842-2ed422780b5f",
   "metadata": {},
   "outputs": [
    {
     "data": {
      "text/plain": [
       "Text(0, 0.5, 'Average Days Late')"
      ]
     },
     "execution_count": 102,
     "metadata": {},
     "output_type": "execute_result"
    },
    {
     "data": {
      "image/png": "[encoded data removed]",
      "text/plain": [
       "<Figure size 432x288 with 1 Axes>"
      ]
     },
     "metadata": {
      "needs_background": "light"
     },
     "output_type": "display_data"
    }
   ],
   "source": [
    "import pandas as pd\n",
    "import matplotlib.pyplot as plt\n",
    "\n",
    "dept_late.set_index('department').plot.bar()\n",
    "plt.title('Average Days Late by Department')\n",
    "plt.ylabel('Average Days Late')"
   ]
  },
  {
   "cell_type": "markdown",
   "id": "2ffe0b76-c2fd-49f5-8dc1-0f82515c741e",
   "metadata": {},
   "source": [
    "Looks to be a significant difference between departments"
   ]
  },
  {
   "cell_type": "markdown",
   "id": "2714c686-abf5-493d-a524-bfb51e52bbae",
   "metadata": {},
   "source": [
    "12. How do number of days late depend on department and request type?"
   ]
  },
  {
   "cell_type": "code",
   "execution_count": 110,
   "id": "7a11d143-5568-40da-af72-8a66835e9de2",
   "metadata": {},
   "outputs": [
    {
     "name": "stderr",
     "output_type": "stream",
     "text": [
      "[Stage 236:>                                                        (0 + 8) / 8]\r"
     ]
    },
    {
     "name": "stdout",
     "output_type": "stream",
     "text": [
      "+------------------------+----------------------------------------+------------------+------------------+\n",
      "|department              |service_request_type                    |avg_days_late     |max_days_late     |\n",
      "+------------------------+----------------------------------------+------------------+------------------+\n",
      "|DSD/Code Enforcement    |Zoning: Recycle Yard                    |210.89201994318182|494.94844910000006|\n",
      "|DSD/Code Enforcement    |Zoning: Junk Yards                      |200.20517608494276|494.949838        |\n",
      "|DSD/Code Enforcement    |Structure/Housing Maintenance           |190.20707698509807|345.30469910000005|\n",
      "|DSD/Code Enforcement    |Donation Container Enforcement          |171.09115313942615|391.2158102       |\n",
      "|DSD/Code Enforcement    |Storage of Used Mattress                |163.96812829714287|288.504456        |\n",
      "|DSD/Code Enforcement    |Labeling for Used Mattress              |162.43032902285717|288.5038773       |\n",
      "|DSD/Code Enforcement    |Record Keeping of Used Mattresses       |153.99724039428568|228.2947338       |\n",
      "|DSD/Code Enforcement    |Signage Requied for Sale of Used Mattr  |151.63868055333333|288.506088        |\n",
      "|Trans & Cap Improvements|Traffic Signal Graffiti                 |137.64583330000002|137.64583330000002|\n",
      "|DSD/Code Enforcement    |License Requied Used Mattress Sales     |128.79828704142858|228.2941204       |\n",
      "|DSD/Code Enforcement    |Curbstoning                             |118.553051384608  |493.10947919999995|\n",
      "|DSD/Code Enforcement    |Vendors                                 |117.653927527797  |492.16497689999994|\n",
      "|DSD/Code Enforcement    |CPS Energy Wood Poles                   |115.18708329999998|115.18708329999998|\n",
      "|DSD/Code Enforcement    |Graffiti: Private Property (Corridors)  |114.09439580800002|175.0887731       |\n",
      "|DSD/Code Enforcement    |Used Mattress Inspection                |108.14074724718749|234.3210417       |\n",
      "|DSD/Code Enforcement    |DSDB Ordered/Hold Harmless/Regular: Main|94.9029600898138  |404.1823958       |\n",
      "|DSD/Code Enforcement    |DSDB Ordered/Hold Harmless/Regular-ALL  |90.60137650743478 |318.83480319999995|\n",
      "|DSD/Code Enforcement    |DSDB Ordered/Hold Harmless/Regular: ASEC|88.67873591760812 |351.0291319       |\n",
      "|Customer Service        |Complaint                               |88.24283610330842 |357.97240739999995|\n",
      "|DSD/Code Enforcement    |Zoning: Setbacks                        |86.72783777095414 |377.8053125       |\n",
      "|DSD/Code Enforcement    |Dart Preliminary Inspection             |85.06190586980954 |214.39577549999998|\n",
      "|DSD/Code Enforcement    |Vacant Lot: Over 12\"\"                   |82.08825231       |82.08825231       |\n",
      "|DSD/Code Enforcement    |Permits Building                        |80.99835682784477 |506.1483218       |\n",
      "|DSD/Code Enforcement    |Street Light New Development            |80.91673396907407 |177.50964119999998|\n",
      "|DSD/Code Enforcement    |No Address Posted                       |79.4926581827068  |514.9381944       |\n",
      "|DSD/Code Enforcement    |Low Hanging Limbs on Streets/Sidewalk   |78.07437152269999 |302.9703935       |\n",
      "|Customer Service        |Compliment                              |78.00775655916665 |297.6100694       |\n",
      "|DSD/Code Enforcement    |Certificates of Occupancy               |77.62671183098276 |378.3227083       |\n",
      "|Trans & Cap Improvements|Status: On-Going CIMS Projects          |77.46161965270176 |208.5119676       |\n",
      "|Parks & Recreation      |Amenity Park Improvement                |76.60603677123078 |327.9456019       |\n",
      "+------------------------+----------------------------------------+------------------+------------------+\n",
      "only showing top 30 rows\n",
      "\n"
     ]
    },
    {
     "name": "stderr",
     "output_type": "stream",
     "text": [
      "                                                                                \r"
     ]
    }
   ],
   "source": [
    "(df\n",
    " .filter(df.case_late == True)\n",
    " .groupby('department', 'service_request_type')\n",
    " .agg(avg('num_days_late').alias('avg_days_late'), \n",
    "      max('num_days_late').alias('max_days_late'))\n",
    " .sort(col('avg_days_late').desc())\n",
    ").show(30, truncate = False)"
   ]
  },
  {
   "cell_type": "markdown",
   "id": "9f9feb6b-8fd8-48ef-8fae-f09b47969877",
   "metadata": {},
   "source": [
    "There is huge variability in average number of days late based on the department and request type. DSD/Code Enforcement looks to be very late on their jobs in general. "
   ]
  },
  {
   "cell_type": "code",
   "execution_count": 120,
   "id": "866c0d41-d707-4ccd-ad9d-a8201ff468cb",
   "metadata": {},
   "outputs": [
    {
     "name": "stderr",
     "output_type": "stream",
     "text": [
      "[Stage 249:>                                                        (0 + 8) / 8]\r"
     ]
    },
    {
     "name": "stdout",
     "output_type": "stream",
     "text": [
      "-RECORD 0------------------------------------\n",
      " case_id              | 1013225542           \n",
      " case_opened_date     | 2017-01-01 03:22:00  \n",
      " case_closed_date     | 2017-01-04 16:10:00  \n",
      " case_due_date        | 2017-01-05 08:30:00  \n",
      " case_late            | false                \n",
      " num_days_late        | -0.680462963         \n",
      " case_closed          | true                 \n",
      " service_request_type | No Pickup            \n",
      " SLA_days             | 4.213252315          \n",
      " case_status          | Closed               \n",
      " request_address      | 10010  GENTLE POI... \n",
      " council_district     | 7                    \n",
      " case_age             | 1965                 \n",
      " days_to_closed       | 3                    \n",
      " case_lifetime        | 3                    \n",
      " department           | Solid Waste          \n",
      " dept_subject_to_SLA  | true                 \n",
      " source_username      | svcCRMLS             \n",
      "only showing top 1 row\n",
      "\n"
     ]
    },
    {
     "name": "stderr",
     "output_type": "stream",
     "text": [
      "                                                                                \r"
     ]
    }
   ],
   "source": [
    "df.sort(asc('case_opened_date')).show(1, vertical=True)"
   ]
  },
  {
   "cell_type": "code",
   "execution_count": null,
   "id": "b4228522-8da4-4567-88a1-9c4617e381fd",
   "metadata": {},
   "outputs": [],
   "source": []
  }
 ],
 "metadata": {
  "kernelspec": {
   "display_name": "Python 3 (ipykernel)",
   "language": "python",
   "name": "python3"
  },
  "language_info": {
   "codemirror_mode": {
    "name": "ipython",
    "version": 3
   },
   "file_extension": ".py",
   "mimetype": "text/x-python",
   "name": "python",
   "nbconvert_exporter": "python",
   "pygments_lexer": "ipython3",
   "version": "3.9.7"
  }
 },
 "nbformat": 4,
 "nbformat_minor": 5
}
