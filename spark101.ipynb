{
 "cells": [
  {
   "cell_type": "code",
   "execution_count": 1,
   "id": "2719f4b9-6b11-4f52-a589-ef076e0a4eb0",
   "metadata": {},
   "outputs": [],
   "source": [
    "import pyspark\n",
    "import pydataset\n",
    "import pandas as pd\n",
    "from pyspark.sql.functions import *\n",
    "from vega_datasets import data as vega_data"
   ]
  },
  {
   "cell_type": "code",
   "execution_count": 2,
   "id": "7fbebe5c-c0f8-4ecc-a190-d94ec81e3c11",
   "metadata": {},
   "outputs": [
    {
     "name": "stderr",
     "output_type": "stream",
     "text": [
      "WARNING: An illegal reflective access operation has occurred\n",
      "WARNING: Illegal reflective access by org.apache.spark.unsafe.Platform (file:/opt/homebrew/anaconda3/lib/python3.9/site-packages/pyspark/jars/spark-unsafe_2.12-3.2.1.jar) to constructor java.nio.DirectByteBuffer(long,int)\n",
      "WARNING: Please consider reporting this to the maintainers of org.apache.spark.unsafe.Platform\n",
      "WARNING: Use --illegal-access=warn to enable warnings of further illegal reflective access operations\n",
      "WARNING: All illegal access operations will be denied in a future release\n",
      "Using Spark's default log4j profile: org/apache/spark/log4j-defaults.properties\n",
      "Setting default log level to \"WARN\".\n",
      "To adjust logging level use sc.setLogLevel(newLevel). For SparkR, use setLogLevel(newLevel).\n",
      "22/05/19 11:02:51 WARN NativeCodeLoader: Unable to load native-hadoop library for your platform... using builtin-java classes where applicable\n"
     ]
    }
   ],
   "source": [
    "spark = pyspark.sql.SparkSession.builder.getOrCreate()\n",
    "df = spark.createDataFrame(pd.DataFrame({'language':['python','java','c++','r','javascript','scala','html']}))"
   ]
  },
  {
   "cell_type": "markdown",
   "id": "e9c01dba-8a05-41e4-b4c8-35a41ec63513",
   "metadata": {},
   "source": [
    "Dataframe of favorite programming languages\n",
    "- The name of the column should be language\n",
    "- View the schema of the dataframe\n",
    "- Output the shape of the dataframe\n",
    "- Show the first 5 records in the dataframe"
   ]
  },
  {
   "cell_type": "code",
   "execution_count": 3,
   "id": "668825cc-b5ff-4761-8f2c-956f2d5f3f3f",
   "metadata": {},
   "outputs": [
    {
     "data": {
      "text/plain": [
       "StructType(List(StructField(language,StringType,true)))"
      ]
     },
     "execution_count": 3,
     "metadata": {},
     "output_type": "execute_result"
    }
   ],
   "source": [
    "df.schema"
   ]
  },
  {
   "cell_type": "code",
   "execution_count": 4,
   "id": "3686a998-b0f2-4f5f-b906-73826afa588e",
   "metadata": {},
   "outputs": [
    {
     "name": "stderr",
     "output_type": "stream",
     "text": [
      "                                                                                \r"
     ]
    },
    {
     "data": {
      "text/plain": [
       "DataFrame[summary: string, language: string]"
      ]
     },
     "execution_count": 4,
     "metadata": {},
     "output_type": "execute_result"
    }
   ],
   "source": [
    "df.describe()"
   ]
  },
  {
   "cell_type": "code",
   "execution_count": 5,
   "id": "89b38294-e65a-473b-acda-b015fce08e99",
   "metadata": {},
   "outputs": [
    {
     "name": "stdout",
     "output_type": "stream",
     "text": [
      "+----------+\n",
      "|  language|\n",
      "+----------+\n",
      "|    python|\n",
      "|      java|\n",
      "|       c++|\n",
      "|         r|\n",
      "|javascript|\n",
      "+----------+\n",
      "only showing top 5 rows\n",
      "\n"
     ]
    }
   ],
   "source": [
    "df.show(5)"
   ]
  },
  {
   "cell_type": "markdown",
   "id": "5851ac6d-c633-48ad-b734-4dc7edafac8f",
   "metadata": {},
   "source": [
    "### 2. MPG Dataset"
   ]
  },
  {
   "cell_type": "code",
   "execution_count": 6,
   "id": "d84da33f-ef61-4378-8f69-24a7978bc9d2",
   "metadata": {},
   "outputs": [],
   "source": [
    "df = spark.createDataFrame(pydataset.data('mpg'))"
   ]
  },
  {
   "cell_type": "code",
   "execution_count": 7,
   "id": "074014d6-38a6-426d-9a7c-b439e1e77922",
   "metadata": {},
   "outputs": [
    {
     "name": "stdout",
     "output_type": "stream",
     "text": [
      "+------------+-----+-----+----+---+----------+---+---+---+---+-------+\n",
      "|manufacturer|model|displ|year|cyl|     trans|drv|cty|hwy| fl|  class|\n",
      "+------------+-----+-----+----+---+----------+---+---+---+---+-------+\n",
      "|        audi|   a4|  1.8|1999|  4|  auto(l5)|  f| 18| 29|  p|compact|\n",
      "|        audi|   a4|  1.8|1999|  4|manual(m5)|  f| 21| 29|  p|compact|\n",
      "|        audi|   a4|  2.0|2008|  4|manual(m6)|  f| 20| 31|  p|compact|\n",
      "|        audi|   a4|  2.0|2008|  4|  auto(av)|  f| 21| 30|  p|compact|\n",
      "|        audi|   a4|  2.8|1999|  6|  auto(l5)|  f| 16| 26|  p|compact|\n",
      "+------------+-----+-----+----+---+----------+---+---+---+---+-------+\n",
      "only showing top 5 rows\n",
      "\n"
     ]
    }
   ],
   "source": [
    "df.show(5)"
   ]
  },
  {
   "cell_type": "markdown",
   "id": "36ae918e-b62c-4d6d-bbe3-36c3e3375bb1",
   "metadata": {},
   "source": [
    "a."
   ]
  },
  {
   "cell_type": "code",
   "execution_count": 8,
   "id": "43236f42-f05d-4c2c-8bb2-c88e7525a668",
   "metadata": {},
   "outputs": [
    {
     "name": "stdout",
     "output_type": "stream",
     "text": [
      "+------------+-----+-----+----+---+----------+---+---+---+---+-------+-----------------------------------------+\n",
      "|manufacturer|model|displ|year|cyl|trans     |drv|cty|hwy|fl |class  |message                                  |\n",
      "+------------+-----+-----+----+---+----------+---+---+---+---+-------+-----------------------------------------+\n",
      "|audi        |a4   |1.8  |1999|4  |auto(l5)  |f  |18 |29 |p  |compact|The 1999 audi a4 has a 4 cylinder engine.|\n",
      "|audi        |a4   |1.8  |1999|4  |manual(m5)|f  |21 |29 |p  |compact|The 1999 audi a4 has a 4 cylinder engine.|\n",
      "|audi        |a4   |2.0  |2008|4  |manual(m6)|f  |20 |31 |p  |compact|The 2008 audi a4 has a 4 cylinder engine.|\n",
      "|audi        |a4   |2.0  |2008|4  |auto(av)  |f  |21 |30 |p  |compact|The 2008 audi a4 has a 4 cylinder engine.|\n",
      "|audi        |a4   |2.8  |1999|6  |auto(l5)  |f  |16 |26 |p  |compact|The 1999 audi a4 has a 6 cylinder engine.|\n",
      "|audi        |a4   |2.8  |1999|6  |manual(m5)|f  |18 |26 |p  |compact|The 1999 audi a4 has a 6 cylinder engine.|\n",
      "|audi        |a4   |3.1  |2008|6  |auto(av)  |f  |18 |27 |p  |compact|The 2008 audi a4 has a 6 cylinder engine.|\n",
      "+------------+-----+-----+----+---+----------+---+---+---+---+-------+-----------------------------------------+\n",
      "only showing top 7 rows\n",
      "\n"
     ]
    }
   ],
   "source": [
    "message = (concat(lit('The '),'year',lit(' '),'manufacturer',lit(' '),'model',lit(' has a '), 'cyl', lit(' cylinder engine.')))\n",
    "\n",
    "df.select('*',message.alias('message')).show(7, truncate = False)"
   ]
  },
  {
   "cell_type": "markdown",
   "id": "64b3fd3c-d15a-4485-9875-125a74344a6d",
   "metadata": {},
   "source": [
    "b. transform trans column"
   ]
  },
  {
   "cell_type": "code",
   "execution_count": 9,
   "id": "ca54cec2-4b19-486b-8b75-e1193a527171",
   "metadata": {},
   "outputs": [
    {
     "name": "stdout",
     "output_type": "stream",
     "text": [
      "+----------+-----------------------------------+\n",
      "|     trans|regexp_extract(trans, (\\w{4,6}), 1)|\n",
      "+----------+-----------------------------------+\n",
      "|  auto(l5)|                               auto|\n",
      "|manual(m5)|                             manual|\n",
      "|manual(m6)|                             manual|\n",
      "|  auto(av)|                               auto|\n",
      "|  auto(l5)|                               auto|\n",
      "+----------+-----------------------------------+\n",
      "only showing top 5 rows\n",
      "\n"
     ]
    }
   ],
   "source": [
    "df.select(\n",
    "    \"trans\",\n",
    "    regexp_extract('trans',r'(\\w{4,6})',1)\n",
    ").show(5)"
   ]
  },
  {
   "cell_type": "markdown",
   "id": "4e9a0989-2229-471a-a54e-27f5b270184a",
   "metadata": {},
   "source": [
    "## 3.  Tips"
   ]
  },
  {
   "cell_type": "code",
   "execution_count": 10,
   "id": "01df2877-ced3-4678-a9e6-adb6189fff08",
   "metadata": {},
   "outputs": [],
   "source": [
    "df = spark.createDataFrame(pydataset.data('tips'))"
   ]
  },
  {
   "cell_type": "code",
   "execution_count": 11,
   "id": "c5860f29-6505-4825-8c1b-0f54de481526",
   "metadata": {},
   "outputs": [
    {
     "name": "stdout",
     "output_type": "stream",
     "text": [
      "+----------+----+------+------+---+------+----+\n",
      "|total_bill| tip|   sex|smoker|day|  time|size|\n",
      "+----------+----+------+------+---+------+----+\n",
      "|     16.99|1.01|Female|    No|Sun|Dinner|   2|\n",
      "|     10.34|1.66|  Male|    No|Sun|Dinner|   3|\n",
      "|     21.01| 3.5|  Male|    No|Sun|Dinner|   3|\n",
      "|     23.68|3.31|  Male|    No|Sun|Dinner|   2|\n",
      "|     24.59|3.61|Female|    No|Sun|Dinner|   4|\n",
      "+----------+----+------+------+---+------+----+\n",
      "only showing top 5 rows\n",
      "\n"
     ]
    }
   ],
   "source": [
    "df.show(5)"
   ]
  },
  {
   "cell_type": "code",
   "execution_count": 12,
   "id": "7059c378-5334-46c3-86a8-6c77819abac6",
   "metadata": {},
   "outputs": [
    {
     "name": "stdout",
     "output_type": "stream",
     "text": [
      "+-------------------+\n",
      "|    percent_smokers|\n",
      "+-------------------+\n",
      "|0.38114754098360654|\n",
      "+-------------------+\n",
      "\n"
     ]
    }
   ],
   "source": [
    "is_smoker = when(df.smoker == 'Yes',1).otherwise(0)\n",
    "df.select(avg(is_smoker).alias('percent_smokers')).show(5)"
   ]
  },
  {
   "cell_type": "code",
   "execution_count": 13,
   "id": "69e59bb4-72d2-4f4c-8097-ae821429cc1e",
   "metadata": {},
   "outputs": [],
   "source": [
    "tip_percentage = (df.tip / df.total_bill).alias('tip_percentage')\n",
    "df = df.select('*', tip_percentage)"
   ]
  },
  {
   "cell_type": "code",
   "execution_count": 14,
   "id": "12da017e-6c9b-418e-a2ac-7297cc77e254",
   "metadata": {},
   "outputs": [
    {
     "name": "stdout",
     "output_type": "stream",
     "text": [
      "+----------+----+------+------+---+------+----+-------------------+\n",
      "|total_bill| tip|   sex|smoker|day|  time|size|     tip_percentage|\n",
      "+----------+----+------+------+---+------+----+-------------------+\n",
      "|     16.99|1.01|Female|    No|Sun|Dinner|   2|0.05944673337257211|\n",
      "|     10.34|1.66|  Male|    No|Sun|Dinner|   3|0.16054158607350097|\n",
      "|     21.01| 3.5|  Male|    No|Sun|Dinner|   3|0.16658733936220846|\n",
      "|     23.68|3.31|  Male|    No|Sun|Dinner|   2| 0.1397804054054054|\n",
      "|     24.59|3.61|Female|    No|Sun|Dinner|   4|0.14680764538430255|\n",
      "+----------+----+------+------+---+------+----+-------------------+\n",
      "only showing top 5 rows\n",
      "\n"
     ]
    }
   ],
   "source": [
    "df.show(5)"
   ]
  },
  {
   "cell_type": "code",
   "execution_count": 15,
   "id": "3bef41b5-0979-4485-8ed1-81df62a538cc",
   "metadata": {},
   "outputs": [
    {
     "name": "stderr",
     "output_type": "stream",
     "text": [
      "[Stage 14:=====================>                                    (3 + 5) / 8]\r"
     ]
    },
    {
     "name": "stdout",
     "output_type": "stream",
     "text": [
      "+------+------+-------------------+\n",
      "|   sex|smoker|avg(tip_percentage)|\n",
      "+------+------+-------------------+\n",
      "|  Male|    No| 0.1606687151291298|\n",
      "|Female|    No| 0.1569209707691836|\n",
      "|  Male|   Yes|0.15277117520248512|\n",
      "|Female|   Yes|0.18215035269941032|\n",
      "+------+------+-------------------+\n",
      "\n"
     ]
    },
    {
     "name": "stderr",
     "output_type": "stream",
     "text": [
      "                                                                                \r"
     ]
    }
   ],
   "source": [
    "df.groupby('sex','smoker').agg(avg('tip_percentage')).show()"
   ]
  },
  {
   "cell_type": "markdown",
   "id": "7f6b60ba-bc0f-401c-83c6-1e284277a1e3",
   "metadata": {},
   "source": [
    "## 4. Seattle Weather\n",
    "- Convert the temperatures to fahrenheit.\n",
    "- Which month has the most rain, on average?\n",
    "- Which year was the windiest?\n",
    "- What is the most frequent type of weather in January?\n",
    "- What is the average high and low temperature on sunny days in July in 2013 and 2014?\n",
    "- What percentage of days were rainy in q3 of 2015?\n",
    "- For each year, find what percentage of days it rained (had non-zero precipitation)."
   ]
  },
  {
   "cell_type": "code",
   "execution_count": 16,
   "id": "fe0b28dd-0cf2-4d48-a13c-5d1dac4faf2b",
   "metadata": {},
   "outputs": [
    {
     "name": "stdout",
     "output_type": "stream",
     "text": [
      "+----------+-------------+--------+--------+----+-------+\n",
      "|      date|precipitation|temp_max|temp_min|wind|weather|\n",
      "+----------+-------------+--------+--------+----+-------+\n",
      "|2012-01-01|          0.0|    12.8|     5.0| 4.7|drizzle|\n",
      "|2012-01-02|         10.9|    10.6|     2.8| 4.5|   rain|\n",
      "|2012-01-03|          0.8|    11.7|     7.2| 2.3|   rain|\n",
      "|2012-01-04|         20.3|    12.2|     5.6| 4.7|   rain|\n",
      "|2012-01-05|          1.3|     8.9|     2.8| 6.1|   rain|\n",
      "|2012-01-06|          2.5|     4.4|     2.2| 2.2|   rain|\n",
      "+----------+-------------+--------+--------+----+-------+\n",
      "only showing top 6 rows\n",
      "\n"
     ]
    }
   ],
   "source": [
    "weather = vega_data.seattle_weather().assign(date=lambda df: df.date.astype(str))\n",
    "weather = spark.createDataFrame(weather)\n",
    "weather.show(6)"
   ]
  },
  {
   "cell_type": "code",
   "execution_count": 17,
   "id": "b23f6cd5-a0c3-4c66-b430-fe8df8195a46",
   "metadata": {},
   "outputs": [],
   "source": [
    "def convert_c_to_f(temp):\n",
    "    \"\"\" Converts Fahrenheit to Celcius \"\"\"\n",
    "    return temp * (9/5) + 32\n",
    "\n",
    "# convert python function to pyspark udf\n",
    "udf_convert = udf(lambda temp: convert_c_to_f(temp))"
   ]
  },
  {
   "cell_type": "code",
   "execution_count": 18,
   "id": "74225df8-cb1e-4241-9e58-de0cee61f34d",
   "metadata": {},
   "outputs": [],
   "source": [
    "weather = weather.withColumn('temp_max_f', \n",
    "                   udf_convert(col('temp_max'))).withColumn('temp_min_f', \n",
    "                   udf_convert(col('temp_min')))"
   ]
  },
  {
   "cell_type": "code",
   "execution_count": 19,
   "id": "71e7f825-fa2b-4e7c-ad6f-da948649448b",
   "metadata": {},
   "outputs": [],
   "source": [
    "month = regexp_extract(weather.date, r'-(\\d+)-',1).alias('month')\n",
    "year = regexp_extract(weather.date, r'(\\d{4})',1).alias('year')"
   ]
  },
  {
   "cell_type": "code",
   "execution_count": 20,
   "id": "ffca1d65-bbfb-4d16-a7e9-b2faf0233aeb",
   "metadata": {},
   "outputs": [],
   "source": [
    "weather = weather.select('*',month, year)"
   ]
  },
  {
   "cell_type": "code",
   "execution_count": 21,
   "id": "97724896-0b2f-4ae7-9c9c-b5ee7f2f82ce",
   "metadata": {},
   "outputs": [
    {
     "name": "stderr",
     "output_type": "stream",
     "text": [
      "[Stage 18:>                                                         (0 + 1) / 1]\r"
     ]
    },
    {
     "name": "stdout",
     "output_type": "stream",
     "text": [
      "+----------+-------------+--------+--------+----+-------+------------------+----------+-----+----+\n",
      "|      date|precipitation|temp_max|temp_min|wind|weather|        temp_max_f|temp_min_f|month|year|\n",
      "+----------+-------------+--------+--------+----+-------+------------------+----------+-----+----+\n",
      "|2012-01-01|          0.0|    12.8|     5.0| 4.7|drizzle|55.040000000000006|      41.0|   01|2012|\n",
      "|2012-01-02|         10.9|    10.6|     2.8| 4.5|   rain|             51.08|     37.04|   01|2012|\n",
      "|2012-01-03|          0.8|    11.7|     7.2| 2.3|   rain|             53.06|     44.96|   01|2012|\n",
      "|2012-01-04|         20.3|    12.2|     5.6| 4.7|   rain|             53.96|     42.08|   01|2012|\n",
      "|2012-01-05|          1.3|     8.9|     2.8| 6.1|   rain|48.019999999999996|     37.04|   01|2012|\n",
      "+----------+-------------+--------+--------+----+-------+------------------+----------+-----+----+\n",
      "only showing top 5 rows\n",
      "\n"
     ]
    },
    {
     "name": "stderr",
     "output_type": "stream",
     "text": [
      "                                                                                \r"
     ]
    }
   ],
   "source": [
    "weather.show(5)"
   ]
  },
  {
   "cell_type": "markdown",
   "id": "acf7b899-6b8a-41e4-9ae0-16a725a15512",
   "metadata": {},
   "source": [
    "Month with most rain"
   ]
  },
  {
   "cell_type": "code",
   "execution_count": 22,
   "id": "1ace2c6a-e4da-4456-ab49-f9ee53b424d6",
   "metadata": {},
   "outputs": [
    {
     "name": "stdout",
     "output_type": "stream",
     "text": [
      "+-----+---------------------+\n",
      "|month|monthly_precipitation|\n",
      "+-----+---------------------+\n",
      "|   03|                 55.9|\n",
      "+-----+---------------------+\n",
      "only showing top 1 row\n",
      "\n"
     ]
    }
   ],
   "source": [
    "weather.groupby('month').agg(max('precipitation').alias('monthly_precipitation')).sort(desc('monthly_precipitation')).show(1)"
   ]
  },
  {
   "cell_type": "markdown",
   "id": "293bcfc7-ada5-42cb-828a-904f1046d86d",
   "metadata": {},
   "source": [
    "Windiest year (by average wind)"
   ]
  },
  {
   "cell_type": "code",
   "execution_count": 23,
   "id": "aab03232-5878-411d-a06b-6c5e7f6bf0f4",
   "metadata": {},
   "outputs": [
    {
     "name": "stdout",
     "output_type": "stream",
     "text": [
      "+----+-----------------+\n",
      "|year|     average_wind|\n",
      "+----+-----------------+\n",
      "|2012|3.400819672131148|\n",
      "+----+-----------------+\n",
      "only showing top 1 row\n",
      "\n"
     ]
    }
   ],
   "source": [
    "weather.groupby('year').agg(avg('wind').alias('average_wind')).sort(desc('average_wind')).show(1)"
   ]
  },
  {
   "cell_type": "markdown",
   "id": "04286b1e-f84f-442d-8233-740f9d3abae6",
   "metadata": {},
   "source": [
    "Most frequent type of weather in January"
   ]
  },
  {
   "cell_type": "code",
   "execution_count": 24,
   "id": "f1b67fa6-a95f-428c-b252-0a780d84c0d2",
   "metadata": {},
   "outputs": [
    {
     "name": "stderr",
     "output_type": "stream",
     "text": [
      "[Stage 25:>                                                         (0 + 8) / 8]\r"
     ]
    },
    {
     "name": "stdout",
     "output_type": "stream",
     "text": [
      "+-------+-----+\n",
      "|weather|count|\n",
      "+-------+-----+\n",
      "|    fog|   38|\n",
      "+-------+-----+\n",
      "only showing top 1 row\n",
      "\n"
     ]
    },
    {
     "name": "stderr",
     "output_type": "stream",
     "text": [
      "                                                                                \r"
     ]
    }
   ],
   "source": [
    "weather.filter((month == '01')).groupby('weather').count().sort(desc('count')).show(1)"
   ]
  },
  {
   "cell_type": "markdown",
   "id": "b9317b15-0909-4123-b54d-16eae60fa0c8",
   "metadata": {},
   "source": [
    "Average high and low temp on sunny days in July in 2013 and 2014"
   ]
  },
  {
   "cell_type": "code",
   "execution_count": 25,
   "id": "4a5abd8f-90c3-477a-8c6d-4b3cbe2bef04",
   "metadata": {},
   "outputs": [
    {
     "name": "stdout",
     "output_type": "stream",
     "text": [
      "+-----------------+-----------------+\n",
      "|  avg(temp_max_f)|  avg(temp_min_f)|\n",
      "+-----------------+-----------------+\n",
      "|63.78147959183674|48.25188775510203|\n",
      "+-----------------+-----------------+\n",
      "\n"
     ]
    }
   ],
   "source": [
    "weather.filter((weather.weather == 'sun')&(month == '07')&(year == '2013')|(year == '2014')).select(\n",
    "    avg('temp_max_f'),\n",
    "    avg('temp_min_f')\n",
    ").show()"
   ]
  },
  {
   "cell_type": "code",
   "execution_count": 26,
   "id": "93cfe80f-531a-43d0-9074-f5b9c7e44362",
   "metadata": {},
   "outputs": [],
   "source": [
    "weather = weather.withColumn('quarter',quarter(weather.date))"
   ]
  },
  {
   "cell_type": "code",
   "execution_count": 36,
   "id": "29037e08-28d7-422d-85e3-22aa551a0868",
   "metadata": {},
   "outputs": [
    {
     "name": "stdout",
     "output_type": "stream",
     "text": [
      "+----------+-------------+--------+--------+----+-------+------------------+------------------+-----+----+-------+\n",
      "|      date|precipitation|temp_max|temp_min|wind|weather|        temp_max_f|        temp_min_f|month|year|quarter|\n",
      "+----------+-------------+--------+--------+----+-------+------------------+------------------+-----+----+-------+\n",
      "|2012-01-01|          0.0|    12.8|     5.0| 4.7|drizzle|55.040000000000006|              41.0|   01|2012|      1|\n",
      "|2012-01-02|         10.9|    10.6|     2.8| 4.5|   rain|             51.08|             37.04|   01|2012|      1|\n",
      "|2012-01-03|          0.8|    11.7|     7.2| 2.3|   rain|             53.06|             44.96|   01|2012|      1|\n",
      "|2012-01-04|         20.3|    12.2|     5.6| 4.7|   rain|             53.96|             42.08|   01|2012|      1|\n",
      "|2012-01-05|          1.3|     8.9|     2.8| 6.1|   rain|48.019999999999996|             37.04|   01|2012|      1|\n",
      "|2012-01-06|          2.5|     4.4|     2.2| 2.2|   rain|             39.92|             35.96|   01|2012|      1|\n",
      "|2012-01-07|          0.0|     7.2|     2.8| 2.3|   rain|             44.96|             37.04|   01|2012|      1|\n",
      "|2012-01-08|          0.0|    10.0|     2.8| 2.0|    sun|              50.0|             37.04|   01|2012|      1|\n",
      "|2012-01-09|          4.3|     9.4|     5.0| 3.4|   rain|             48.92|              41.0|   01|2012|      1|\n",
      "|2012-01-10|          1.0|     6.1|     0.6| 3.4|   rain|42.980000000000004|             33.08|   01|2012|      1|\n",
      "|2012-01-11|          0.0|     6.1|    -1.1| 5.1|    sun|42.980000000000004|             30.02|   01|2012|      1|\n",
      "|2012-01-12|          0.0|     6.1|    -1.7| 1.9|    sun|42.980000000000004|             28.94|   01|2012|      1|\n",
      "|2012-01-13|          0.0|     5.0|    -2.8| 1.3|    sun|              41.0|             26.96|   01|2012|      1|\n",
      "|2012-01-14|          4.1|     4.4|     0.6| 5.3|   snow|             39.92|             33.08|   01|2012|      1|\n",
      "|2012-01-15|          5.3|     1.1|    -3.3| 3.2|   snow|             33.98|26.060000000000002|   01|2012|      1|\n",
      "|2012-01-16|          2.5|     1.7|    -2.8| 5.0|   snow|             35.06|             26.96|   01|2012|      1|\n",
      "|2012-01-17|          8.1|     3.3|     0.0| 5.6|   snow|             37.94|              32.0|   01|2012|      1|\n",
      "|2012-01-18|         19.8|     0.0|    -2.8| 5.0|   snow|              32.0|             26.96|   01|2012|      1|\n",
      "|2012-01-19|         15.2|    -1.1|    -2.8| 1.6|   snow|             30.02|             26.96|   01|2012|      1|\n",
      "|2012-01-20|         13.5|     7.2|    -1.1| 2.3|   snow|             44.96|             30.02|   01|2012|      1|\n",
      "+----------+-------------+--------+--------+----+-------+------------------+------------------+-----+----+-------+\n",
      "only showing top 20 rows\n",
      "\n"
     ]
    }
   ],
   "source": [
    "weather.show()"
   ]
  },
  {
   "cell_type": "code",
   "execution_count": 55,
   "id": "15b56941-4612-428b-bd49-eeaa39e0dfe2",
   "metadata": {},
   "outputs": [],
   "source": [
    "subset = weather.filter((weather.quarter == '3')&(weather.year == '2015'))#.groupby('weather').agg(\n",
    "    #(count('weather')).alias('weather_count'))"
   ]
  },
  {
   "cell_type": "code",
   "execution_count": 56,
   "id": "6aa9ef4a-dfc1-4d97-a4cd-85a302091ff6",
   "metadata": {},
   "outputs": [
    {
     "name": "stdout",
     "output_type": "stream",
     "text": [
      "+----------+-------------+--------+--------+----+-------+-----------------+------------------+-----+----+-------+\n",
      "|      date|precipitation|temp_max|temp_min|wind|weather|       temp_max_f|        temp_min_f|month|year|quarter|\n",
      "+----------+-------------+--------+--------+----+-------+-----------------+------------------+-----+----+-------+\n",
      "|2015-07-01|          0.0|    32.2|    17.2| 4.3|    sun|89.96000000000001|             62.96|   07|2015|      3|\n",
      "|2015-07-02|          0.0|    33.9|    17.8| 3.4|    sun|            93.02| 64.03999999999999|   07|2015|      3|\n",
      "|2015-07-03|          0.0|    33.3|    17.8| 2.6|    sun|            91.94| 64.03999999999999|   07|2015|      3|\n",
      "|2015-07-04|          0.0|    33.3|    15.0| 2.9|    sun|            91.94|              59.0|   07|2015|      3|\n",
      "|2015-07-05|          0.0|    32.8|    16.7| 2.1|    sun|91.03999999999999|             62.06|   07|2015|      3|\n",
      "|2015-07-06|          0.0|    29.4|    15.6| 3.2|drizzle|            84.92|             60.08|   07|2015|      3|\n",
      "|2015-07-07|          0.0|    27.2|    13.9| 2.4|    sun|80.96000000000001|57.019999999999996|   07|2015|      3|\n",
      "|2015-07-08|          0.0|    30.0|    14.4| 1.9|drizzle|             86.0|             57.92|   07|2015|      3|\n",
      "|2015-07-09|          0.0|    28.9|    14.4| 3.4|    sun|            84.02|             57.92|   07|2015|      3|\n",
      "|2015-07-10|          0.0|    21.1|    16.7| 3.7|    sun|            69.98|             62.06|   07|2015|      3|\n",
      "|2015-07-11|          0.0|    22.2|    16.7| 3.0|    sun|71.96000000000001|             62.06|   07|2015|      3|\n",
      "|2015-07-12|          0.0|    26.1|    16.7| 2.2|    sun|            78.98|             62.06|   07|2015|      3|\n",
      "|2015-07-13|          0.0|    25.6|    16.1| 3.1|    sun|78.08000000000001|60.980000000000004|   07|2015|      3|\n",
      "|2015-07-14|          0.0|    27.8|    16.1| 3.3|    sun|82.03999999999999|60.980000000000004|   07|2015|      3|\n",
      "|2015-07-15|          0.0|    26.1|    14.4| 3.2|    sun|            78.98|             57.92|   07|2015|      3|\n",
      "|2015-07-16|          0.0|    26.1|    15.0| 2.8|    sun|            78.98|              59.0|   07|2015|      3|\n",
      "|2015-07-17|          0.0|    27.8|    13.9| 3.3|    sun|82.03999999999999|57.019999999999996|   07|2015|      3|\n",
      "|2015-07-18|          0.0|    33.3|    17.8| 3.4|    sun|            91.94| 64.03999999999999|   07|2015|      3|\n",
      "|2015-07-19|          0.0|    35.0|    17.2| 3.3|    sun|             95.0|             62.96|   07|2015|      3|\n",
      "|2015-07-20|          0.0|    26.7|    16.7| 3.9|    sun|            80.06|             62.06|   07|2015|      3|\n",
      "+----------+-------------+--------+--------+----+-------+-----------------+------------------+-----+----+-------+\n",
      "only showing top 20 rows\n",
      "\n"
     ]
    }
   ],
   "source": [
    "subset.show()"
   ]
  },
  {
   "cell_type": "code",
   "execution_count": 60,
   "id": "be34a545-52f6-4f80-8b09-9e1473c93845",
   "metadata": {},
   "outputs": [
    {
     "name": "stderr",
     "output_type": "stream",
     "text": [
      "[Stage 80:>                                                         (0 + 8) / 8]\r"
     ]
    },
    {
     "name": "stdout",
     "output_type": "stream",
     "text": [
      "+-------+-----+\n",
      "|weather|ratio|\n",
      "+-------+-----+\n",
      "|   rain| 0.02|\n",
      "+-------+-----+\n",
      "\n"
     ]
    },
    {
     "name": "stderr",
     "output_type": "stream",
     "text": [
      "                                                                                \r"
     ]
    }
   ],
   "source": [
    "subset.groupby('weather').agg(\n",
    "    (\n",
    "        round(count('weather') / subset.count(), 2)\n",
    "    ).alias('ratio')\n",
    ").filter(subset.weather == 'rain').show()\n"
   ]
  },
  {
   "cell_type": "markdown",
   "id": "e029813f-380d-48c5-b36b-b4750f98183b",
   "metadata": {},
   "source": [
    "For each year, find what percentage of days it rained (had non-zero precipitation)."
   ]
  },
  {
   "cell_type": "code",
   "execution_count": null,
   "id": "f23ceb16-2a2b-4798-9b84-e2bd5c40b447",
   "metadata": {},
   "outputs": [],
   "source": []
  }
 ],
 "metadata": {
  "kernelspec": {
   "display_name": "Python 3 (ipykernel)",
   "language": "python",
   "name": "python3"
  },
  "language_info": {
   "codemirror_mode": {
    "name": "ipython",
    "version": 3
   },
   "file_extension": ".py",
   "mimetype": "text/x-python",
   "name": "python",
   "nbconvert_exporter": "python",
   "pygments_lexer": "ipython3",
   "version": "3.9.7"
  }
 },
 "nbformat": 4,
 "nbformat_minor": 5
}
